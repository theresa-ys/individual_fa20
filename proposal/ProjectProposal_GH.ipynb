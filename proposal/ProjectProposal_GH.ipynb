{
 "cells": [
  {
   "cell_type": "markdown",
   "metadata": {},
   "source": [
    "# COGS 108 - Project Proposal"
   ]
  },
  {
   "cell_type": "markdown",
   "metadata": {},
   "source": [
    "# Names & GitHub ID\n",
    "\n",
    "- Name: Theresa Sobocinski",
    "- GitHub Username: theresa-ys"
   ]
  },
  {
   "cell_type": "markdown",
   "metadata": {},
   "source": [
    "# Research Question"
   ]
  },
  {
   "cell_type": "markdown",
   "metadata": {},
   "source": [
    "Do San Diego neighborhoods with nearby parks experience less crime?"
   ]
  },
  {
   "cell_type": "markdown",
   "metadata": {},
   "source": [
    "## Background and Prior Work"
   ]
  },
  {
   "cell_type": "markdown",
   "metadata": {},
   "source": [
    "In San Diego there are nearly 340 parks, which includes 25 miles of coastline, and 40,000 acres of land. The 25 miles of coastline span from Sunset Cliffs to La Jolla. The overall mission is to induce “sustainability, resilience, equity, livability, and connectivity”. The park system wants recreational spaces that are easily accessible by transit, allow the opportunities for play, and bring investments for areas that need parks most. 

I wasn’t able to locate a direct relationship between crimes committed in San Diego neighborhoods in relation to parks, however, I did find some information about the topic in other cities such as Austin, Philadelphia, Phoenix, and San Francisco. In these areas researchers found that violent crime was 24%-64% higher in neighborhoods near parks versus neighborhoods that were located a mile away. Something that I found interesting was that green spaces led to less crime. This is measured by the amount of grass, trees, canopy, measured over a certain amount of space. In all three hundred cities, green space was associated with less crime due to greens providing a therapy to stress and aggressions. People were also less likely to commit a crime due to keeping their eyes on the environment, making it more uncomfortable for criminals to commit crimes. 
 \n",
    "\n",
    "References (include links):\n",
    "- 1) https://www.sandiego.gov/complete-communities/parks-master-plan#:~:text=The%20Parks%20Master%20Plan%20aligns,equity%2C%20livability%2C%20and%20connectivity.\n",
    "- 2)https://theconversation.com/can-parks-help-cities-fight-crime-118322#:~:text=The%20relationship%20between%20parks%20and,urban%20green%20spaces%20prevent%20violence.&text=One%202015%20study%20of%20multiple,up%20to%2011%20times%20worse."
   ]
  },
  {
   "cell_type": "markdown",
   "metadata": {},
   "source": [
    "# Hypothesis\n"
   ]
  },
  {
   "cell_type": "markdown",
   "metadata": {},
   "source": [
    "I predict that neighborhoods in San Diego in wealthier areas such as La Jolla, Sorrento Valley, and Mission Hills will have reduced crime rates. However, in poorer areas like Hillcrest and Chula Vista, I believe that the crime rate will be increased due to the possibility of illicit activities occurring after dark."
   ]
  },
  {
   "cell_type": "markdown",
   "metadata": {},
   "source": [
    "# Data"
   ]
  },
  {
   "cell_type": "markdown",
   "metadata": {},
   "source": [
    "An ideal dataset would include each San Diego neighborhood with the total amount of crimes for each neighborhood. We would also have to know how many parks there are in each neighborhood. When considering the variables in the park data set, we have to realize that there are different types of parks such as: national parks, neighborhood parks, traditional parks, and marine parks. Variables recorded on the data set labeled “San Diego Crime By Neighborhood” would include murder, rape, robbery, assault, burguraly, larceny, vehicle theft, and property theft. This data set would be recorded by the number of police reports. For the most part, observation isn’t necessary when you can simply look at police reports. However, you could see if there’s more activity at night, comparing parks in different areas. For example, do you notice there are more people at this residential park after dark in neighborhood one vs neighborhood two.  Information would best be stored in CSV’s and XML’s because it’s easier to organize data by columns and rows."
   ]
  },
  {
   "cell_type": "markdown",
   "metadata": {},
   "source": [
    "# Ethics & Privacy"
   ]
  },
  {
   "cell_type": "markdown",
   "metadata": {},
   "source": [
    "The city of San Diego has publicly released the amount of crimes per neighborhood. Names are not released according to the crime they commited. The data is anonymous, ensuring privacy. Finding the amount of parks in San Diego, also is not an ethical issue. They are in public spaces. The only way I could see this turning into an ethical issue is if you end up trespassing into private property inside a national park. Something that’s noteworthy is that when doing observational studies in a park, it’s the researcher’s responsibility to make sure that they’re not violating their space and respecting their privacy. It would not be right to follow them around to see what they’re doing. Instead we’d just want to get a general headcount to see if there’s more activity in park vs another park in a different neighborhood after dark. There also could be bia’s in the “Crime By Neighborhood in San Diego” dataset. Not all cases are reported to police, so the actual number of crimes reported could be higher. Overall, it should be a fairly simple process of comparing police reports by neighborhood to the amount of parks in the neighborhood. "
   ]
  }
 ],
 "metadata": {
  "kernelspec": {
   "display_name": "Python 3",
   "language": "python",
   "name": "python3"
  },
  "language_info": {
   "codemirror_mode": {
    "name": "ipython",
    "version": 3
   },
   "file_extension": ".py",
   "mimetype": "text/x-python",
   "name": "python",
   "nbconvert_exporter": "python",
   "pygments_lexer": "ipython3",
   "version": "3.7.9"
  }
 },
 "nbformat": 4,
 "nbformat_minor": 2
}
